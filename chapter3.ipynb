{
 "cells": [
  {
   "cell_type": "markdown",
   "metadata": {},
   "source": [
    "# 연습문제\n",
    "<!-- https://share.vflat.com/bMVrhm -->"
   ]
  },
  {
   "cell_type": "markdown",
   "metadata": {},
   "source": [
    "##### 1. 그림 3-10(b)의 다층 퍼셉트론에 그림 3-8(a)에 있는 샘플 4개를 입력하여 예측 결과를 계산하시오. 모두 맞히는 지 확인하시오."
   ]
  },
  {
   "cell_type": "code",
   "execution_count": null,
   "metadata": {},
   "outputs": [],
   "source": []
  },
  {
   "cell_type": "markdown",
   "metadata": {},
   "source": [
    "##### 2. NOR 게이트와 AND 게이트의 동작을 데이터로 간주하면 다음과 같다. 이들을 100% 옳게 분류하는 퍼셉트론을 각각 제시하시오."
   ]
  },
  {
   "cell_type": "code",
   "execution_count": 1,
   "metadata": {},
   "outputs": [],
   "source": [
    "import numpy as np\n",
    "\n",
    "x_1 = np.array([0, 0])\n",
    "x_2 = np.array([0, 1])\n",
    "x_3 = np.array([1, 0])\n",
    "x_4 = np.array([1, 1])\n",
    "X = [x_1, x_2, x_3, x_4]\n",
    "\n",
    "\n",
    "def nor_gate(x):\n",
    "    return 1 if (x == 0).all() else -1\n",
    "\n",
    "def and_gate(x):\n",
    "    return 1 if (x == 1).all() else -1"
   ]
  },
  {
   "cell_type": "code",
   "execution_count": 2,
   "metadata": {},
   "outputs": [
    {
     "name": "stdout",
     "output_type": "stream",
     "text": [
      "NOR\n",
      "1\n",
      "-1\n",
      "-1\n",
      "-1\n",
      "AND\n",
      "-1\n",
      "-1\n",
      "-1\n",
      "1\n"
     ]
    }
   ],
   "source": [
    "print(\"NOR\")\n",
    "for x in X:\n",
    "    print(nor_gate(x))\n",
    "\n",
    "print(\"AND\")\n",
    "for x in X:\n",
    "    print(and_gate(x))\n",
    "    \n",
    "\n",
    "# y_nor = [1, -1, -1, -1]\n",
    "# y_and = [-1, -1, -1, 1]"
   ]
  },
  {
   "cell_type": "markdown",
   "metadata": {},
   "source": [
    "##### 3. 3.4절의 오류 역전파 대신 식 (2.51)을 이용하여 그레이디언트를 근사 계산할 수 있다. 식 (2.51)을 사용하는 방법의 계산 효율을 분석하시오."
   ]
  },
  {
   "cell_type": "code",
   "execution_count": null,
   "metadata": {},
   "outputs": [],
   "source": [
    "import numpy as np\n",
    "\n",
    "def sigmoid(x):\n",
    "    return 1/(1+np.exp(-x))\n",
    "\n"
   ]
  },
  {
   "cell_type": "markdown",
   "metadata": {},
   "source": [
    "##### 4. [알고리즘 3-5]를 배치 버전으로 바꾸어 쓰시오."
   ]
  },
  {
   "cell_type": "code",
   "execution_count": null,
   "metadata": {},
   "outputs": [],
   "source": []
  },
  {
   "cell_type": "markdown",
   "metadata": {},
   "source": [
    "##### 5. [표 3-1]에 있는 로지스틱 시그모이드의 1차 도함수를 그리시오 이때 매개탄수 s의 범위는 [-10, 10]으로 하고 -10에서 시작하여 1씩 증가시키면서 도함숫값을 계산하여 그래프를 그리시오. 값이 가장 큰 점과 가장 작은 점은 어디인지 확인하시오."
   ]
  },
  {
   "cell_type": "code",
   "execution_count": 3,
   "metadata": {},
   "outputs": [
    {
     "data": {
      "image/png": "[encoded data removed]",
      "text/plain": [
       "<Figure size 640x480 with 1 Axes>"
      ]
     },
     "metadata": {},
     "output_type": "display_data"
    },
    {
     "name": "stdout",
     "output_type": "stream",
     "text": [
      "max_idx=10 | max_value=0.25\n",
      "min_idx=0  | min_value=4.5395807735951673e-05\n"
     ]
    }
   ],
   "source": [
    "import matplotlib.pyplot as plt\n",
    "import numpy as np\n",
    "\n",
    "def sigmoid(x):\n",
    "    return 1/(1+np.exp(-x))\n",
    "\n",
    "\n",
    "def sigmoid_derivative(s):\n",
    "    return sigmoid(s) * (1 - sigmoid(s))\n",
    "\n",
    "s_range = np.arange(-10, 10, 1)\n",
    "derivative_s = sigmoid_derivative(s_range)\n",
    "\n",
    "plt.axvline(x=0, linestyle='--', linewidth=0.5, color='r')\n",
    "plt.axhline(y=0, linestyle='--', linewidth=0.5, color='r')\n",
    "plt.plot(s_range, derivative_s)\n",
    "plt.title(\"Sigmiod\")\n",
    "plt.show()\n",
    "\n",
    "max_idx = np.argmax(derivative_s)\n",
    "max_value = np.max(derivative_s)\n",
    "min_idx = np.argmin(derivative_s)\n",
    "min_value = np.min(derivative_s)\n",
    "\n",
    "print(f\"{max_idx=:<2} | {max_value=}\")\n",
    "print(f\"{min_idx=:<2} | {min_value=}\")"
   ]
  },
  {
   "cell_type": "markdown",
   "metadata": {},
   "source": [
    "##### 6. 2장의 1그림 2-31에 있는 퍼셉트론은 바이어스 노드가 없는 대신 임계값 T를 가진다. [그림2-31]의 퍼셉트론은 [그림 331]의 퍼셉트론과 같은지 답하시오. 답에 대한 이유를 설명하시오."
   ]
  },
  {
   "cell_type": "markdown",
   "metadata": {},
   "source": [
    "##### 7. [그림 3-4(b)]의 퍼셉트론에 대해 답하시오.\n",
    "- (1) $w_1$과 $w_2$의 값을 고정했을 때 $w_0$이 어느 범위일 때 여전해 100% 옳게 분류하는가?\n",
    "- (2) $w_0$과 $w_2$의 값을 고정했을 때 $w_1$이 어느 범위일 때 여전히 100% 옳게 분류하는가?"
   ]
  },
  {
   "cell_type": "markdown",
   "metadata": {},
   "source": [
    "#####"
   ]
  },
  {
   "cell_type": "markdown",
   "metadata": {},
   "source": [
    "##### 8. 다음 훈련집합을 3차원 공간에 그리시오. 이 데이터를 최소 오류율로 분류하는 퍼셉트론을 제시하시오."
   ]
  },
  {
   "cell_type": "markdown",
   "metadata": {},
   "source": [
    "#####"
   ]
  },
  {
   "cell_type": "markdown",
   "metadata": {},
   "source": [
    "##### 9. 식 (3.7)에 있는 퍼셉트론의 목적함수를 다음과 같이 다르게 정의할 수 있다. 이 식을 미분 하는 과정을 보이고, 미분 결과를 사용하여 가중치 갱신 규칙을 식 (3.2)처럼 제시하시오.\n",
    "$$ J(w) = \\sum^n_{i=1}(y_i)-r(w^T x_i))^2 $$"
   ]
  },
  {
   "cell_type": "markdown",
   "metadata": {},
   "source": [
    "##### 10. 선형분리 불가능한 상황을 처리할 수 있도록 [알고리즘 3-1]을 수정하시오."
   ]
  },
  {
   "cell_type": "markdown",
   "metadata": {},
   "source": [
    "##### 11. XOR 문제는 [그림 3-8(a)] 대신 다음 그림과 같이 해결할 수도 있다. 이 그림에 해당하는 다층 퍼셉트론을 제시하시오."
   ]
  },
  {
   "cell_type": "markdown",
   "metadata": {},
   "source": [
    "##### 12. 다음 분류 문제에 답하시오.\n",
    "- (1) 이 분류 문제를 해결하는 다중 퍼셉트론을 각각 제시하시오\n",
    "- (2) 은닉 노드를 2개만 가진 퍼셉트론으로 오른꼭 상황을 해결할 수 있는지 답하시오. 가능하다면 은닉 노드 2개인 다중 퍼셉트론을 채택하는 것이 유리한지를 일반화 능력 측면에서 판단하시오.\n",
    "    - 그림 11-6의 여백 개념을 사용하시오"
   ]
  },
  {
   "cell_type": "markdown",
   "metadata": {},
   "source": [
    "##### 13. [알고리즘 3-4]의 부연 설명에서 \"X에서 임의로 샘플 하나를 뽑는\" 랜덤 샘플링 버전을 소개하였다. 랜덤 샘플링 버전이 MNIST 훈련집합을 사용한다고 가정하자. MNIST는 숫자 분류 별로 6천 샘플을 가진다. [알고리즘 3-4]의 라인 2의 루프를 60만 번 반복한다고 가정한다. 10세대를 수행하는 셈이며 각 샘플은 평균 10번 선택된다. 다음 질문에 답하시오.\n",
    "1.  어떤 샘플이 한 번도 선택되지 못할 확률은?\n",
    "```\n",
    "    X.shape -> 10 * 6000\n",
    "    선택될 확률 -> 1/60000\n",
    "    선택되지 않을 확률 -> (1-선택될 확률)\n",
    "    600000만 번 이후에도 선택되지 않을 확률 -> 선택되지 않을 확률^600000\n",
    "```\n",
    "\n",
    "\n",
    "2.  어떤 부류에 속한 모든 샘플이 한 번도 선택되지 못할 확률은?\n",
    "```\n",
    "    한 부류의 데이터가 선택되지 않을 확률 -> 54000/60000\n",
    "    600000번 루프 이후 확률 -> (54000/60000)^600000\n",
    "```\n",
    "\n",
    "3.  (1)과 (2)의 분석 결과를 토대로 랜덤 샘플링 방법의 유효성에 대한 의견을 제시하시오.\n",
    "```\n",
    "(1)과 (2)에서 도출된 값은 현저히 낮은 값을 나타내고 있으므로 여러 반복을 통하면 랜덤 샘플링에서도 데이터셋의 특징을 추출할 수 있는 것 같다.\n",
    "```"
   ]
  },
  {
   "cell_type": "code",
   "execution_count": 13,
   "metadata": {},
   "outputs": [
    {
     "name": "stdout",
     "output_type": "stream",
     "text": [
      "prob_selected=1.6666666666666667e-05\n",
      "prob_notseleted=0.9999833333333333\n",
      "prob_afterloops=4.5396146550654916e-05\n"
     ]
    }
   ],
   "source": [
    "# 1. 어떤 샘플이 한 번도 선택되지 못할 확률?\n",
    "n_loop = 600000\n",
    "\n",
    "prob_selected = 1/60000\n",
    "prob_notseleted = 1 - prob_selected\n",
    "prob_afterloops = prob_notseleted**n_loop\n",
    "\n",
    "print(f\"{prob_selected=}\\n{prob_notseleted=}\\n{prob_afterloops=}\")"
   ]
  },
  {
   "cell_type": "code",
   "execution_count": 14,
   "metadata": {},
   "outputs": [
    {
     "name": "stdout",
     "output_type": "stream",
     "text": [
      "prob_notselected=0.9\n",
      "prob_afterloops=0.0\n"
     ]
    }
   ],
   "source": [
    "# 2. 어떤 부류에 속한 모든 샘플이 한 번도 선택되지 못할 확률은?\n",
    "prob_notselected = 54000/60000\n",
    "prob_afterloops = prob_notselected ** n_loop\n",
    "\n",
    "print(f\"{prob_notselected=}\\n{prob_afterloops=}\")"
   ]
  },
  {
   "cell_type": "markdown",
   "metadata": {},
   "source": [
    "#####"
   ]
  },
  {
   "cell_type": "markdown",
   "metadata": {},
   "source": [
    "##### 14. 2차원 특징 공간을 P개 직선으로 나누면 최대 1+ 21 개의 영역으로 나닌다. 주석 3을 참조하시오. 3차원 특징 공간을 p개 평면으로 나누면 최대 몇 개 영역으로 나뉘는지 쓰시오"
   ]
  },
  {
   "cell_type": "markdown",
   "metadata": {},
   "source": [
    "#####"
   ]
  },
  {
   "cell_type": "markdown",
   "metadata": {},
   "source": [
    "##### 15. 현대 기계 학습은 [알고리즘 3-61]의 미니배치 스토캐스틱 정사 하강법(SGD)을 아주 널리 사용 한다. 따라서 SGD는 사실상 표준으로 자리잡았다. 3장~5장이 참조한 논문 중에서 3개를 선정하여 미니배치 크기를 얼마로 설정했는지를 논문 제목과 함께 제시하시오"
   ]
  },
  {
   "cell_type": "markdown",
   "metadata": {},
   "source": [
    "#####"
   ]
  },
  {
   "cell_type": "markdown",
   "metadata": {},
   "source": [
    "##### 16. [알고리즘 3-5)는 [알고리즘 3-4의 행렬 표기 버전이다. 다음 두 라인에 대해 바꿔 쓸 수 있 는 이유를 설명하시오\n",
    "- [알고리즘 3-4]의 라인 7 [알고리즘 3-5의 라인 7\n",
    "- [알고리즘 3-4]의 라인 10- [알고리즘 3-5의 라인 10"
   ]
  },
  {
   "cell_type": "markdown",
   "metadata": {},
   "source": [
    "##### 17. 분류 문제를 푸는 KNN 알고리즘이 있다. 이 알고리즘은 테스트 샘플에 가장 가까운 사개의 샘플을 훈련집합에서 찾은 다음, k개의 샘플의 부류를 보고 가장 빈도가 높은 부류로 분류한다.\n",
    "\n",
    "- (1) KNN을 이 백이 사용하고 있는 알고리즘 형태로 제시하시오.\n",
    "- (2) KNN은 훈련집합을 모두 메모리에 저장하고 있어야 하는 메모리 기반 방법이다. MNIST 를 훈련집합으로 사용할 때 메모리양을 산정하시오. (MNIST 훈련집합은 6만 개 샘플을 가 지는데. 한 샘플은 2차원 특징 벡터로 표현된다.)\n",
    "- (3) 초당 1억 개의 사칙 연산을 수행하는 컴퓨터에서 5-NN으로 테스트 샘플 하나를 분류하 는 데 걸리는 시간을 추정하시오.\n",
    "- (4) 다음 6가지 상황에 대해 1-NN이 공간을 어떻게 분할하는지 그리시오.\n",
    "    * 보로노이 도형 oono thoem으로 분할한다."
   ]
  },
  {
   "cell_type": "markdown",
   "metadata": {},
   "source": [
    "#####"
   ]
  }
 ],
 "metadata": {
  "kernelspec": {
   "display_name": "estudiar",
   "language": "python",
   "name": "python3"
  },
  "language_info": {
   "codemirror_mode": {
    "name": "ipython",
    "version": 3
   },
   "file_extension": ".py",
   "mimetype": "text/x-python",
   "name": "python",
   "nbconvert_exporter": "python",
   "pygments_lexer": "ipython3",
   "version": "3.9.16"
  },
  "orig_nbformat": 4
 },
 "nbformat": 4,
 "nbformat_minor": 2
}
