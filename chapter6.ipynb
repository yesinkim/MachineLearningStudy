{
 "cells": [
  {
   "cell_type": "markdown",
   "metadata": {},
   "source": [
    "# covariance matrix"
   ]
  },
  {
   "cell_type": "code",
   "execution_count": 1,
   "metadata": {},
   "outputs": [
    {
     "data": {
      "text/plain": [
       "array([[-1.  , -1.25],\n",
       "       [-1.  ,  1.75],\n",
       "       [ 1.  , -1.25],\n",
       "       [ 1.  ,  0.75]])"
      ]
     },
     "execution_count": 1,
     "metadata": {},
     "output_type": "execute_result"
    }
   ],
   "source": [
    "import numpy as np\n",
    "\n",
    "x_1 = np.array([2, 1])\n",
    "x_2 = np.array([2, 4])\n",
    "x_3 = np.array([4, 1])\n",
    "x_4 = np.array([4, 3])\n",
    "\n",
    "X_array = np.array([x_1, x_2, x_3, x_4])\n",
    "X_mean = np.mean(X_array, axis=0)\n",
    "X_array = X_array - X_mean\n",
    "X_array   # 원점으로 돌려주기"
   ]
  },
  {
   "cell_type": "code",
   "execution_count": 2,
   "metadata": {},
   "outputs": [
    {
     "data": {
      "text/plain": [
       "array([-1., -1.,  1.,  1.])"
      ]
     },
     "execution_count": 2,
     "metadata": {},
     "output_type": "execute_result"
    }
   ],
   "source": [
    "# 1, 0에 투영하기\n",
    "u = np.array([1, 0])\n",
    "\n",
    "np.dot(X_array, u)"
   ]
  },
  {
   "cell_type": "code",
   "execution_count": 3,
   "metadata": {},
   "outputs": [
    {
     "data": {
      "text/plain": [
       "array([[ 1.    , -0.25  ],\n",
       "       [-0.25  ,  1.6875]])"
      ]
     },
     "execution_count": 3,
     "metadata": {},
     "output_type": "execute_result"
    }
   ],
   "source": [
    "# 공분산 행렬\n",
    "np.dot(X_array.T, X_array) / 4"
   ]
  },
  {
   "cell_type": "code",
   "execution_count": 4,
   "metadata": {},
   "outputs": [
    {
     "data": {
      "text/plain": [
       "(array([0.91870405, 1.76879595]),\n",
       " array([[-0.95098267,  0.30924417],\n",
       "        [-0.30924417, -0.95098267]]))"
      ]
     },
     "execution_count": 4,
     "metadata": {},
     "output_type": "execute_result"
    }
   ],
   "source": [
    "# 고유값, 고유벡터 \n",
    "np.linalg.eig(np.dot(X_array.T, X_array) / 4)"
   ]
  },
  {
   "cell_type": "markdown",
   "metadata": {},
   "source": [
    "### 6.1 [예제 6-1]에서 초 기 군 집 중 심 을 z_1 = x_2, z_2 = x_3, z_3 = x_7 로 다 시 설 정 했 을 때 k - 평 균 의 동작을예제처럼보이시오. 다중시작을사용한다면둘중어느해를취할지판단하시오.\n",
    "<p float=\"left\">\n",
    "  <img src=\"image-3.png\" alt=\"Alt text\" width=\"40%\" /> \n",
    "  <img src=\"image-1.png\" alt=\"Alt text\" width=\"40%\" />\n",
    "</p>"
   ]
  },
  {
   "cell_type": "code",
   "execution_count": 15,
   "metadata": {},
   "outputs": [],
   "source": [
    "from sklearn.cluster import KMeans\n",
    "\n",
    "def compare_iter(X_array, Z_array) ->  None:\n",
    "    kmeans1 = KMeans(n_clusters=3, init=Z_array, max_iter=1, n_init=1).fit(X_array)\n",
    "    label1 = kmeans1.labels_\n",
    "    center1 = kmeans1.cluster_centers_\n",
    "\n",
    "    kmeans2 = KMeans(n_clusters=3, init=center1, max_iter=1, n_init=1).fit(X_array)\n",
    "    label2 = kmeans2.labels_\n",
    "    center2 = kmeans2.cluster_centers_\n",
    "\n",
    "\n",
    "    print(\n",
    "        f\"# first cal:\\n\"\n",
    "        f\"- labels: \\n{label1}\\n\"\n",
    "        f\"- center: \\n{center1}\\n\"\n",
    "    )\n",
    "\n",
    "    print(\n",
    "        f\"# second cal:\\n\"\n",
    "        f\"- labels: \\n{label2}\\n\"\n",
    "        f\"- center: \\n{center2}\\n\"\n",
    "    )\n"
   ]
  },
  {
   "cell_type": "code",
   "execution_count": 16,
   "metadata": {},
   "outputs": [
    {
     "name": "stdout",
     "output_type": "stream",
     "text": [
      "=== 예제 6 - 1 ===\n",
      "# first cal:\n",
      "- labels: \n",
      "[0 1 1 1 2 2 2]\n",
      "- center: \n",
      "[[18.   5. ]\n",
      " [20.   9. ]\n",
      " [12.  16.2]]\n",
      "\n",
      "# second cal:\n",
      "- labels: \n",
      "[0 1 1 1 2 2 2]\n",
      "- center: \n",
      "[[18.          5.        ]\n",
      " [20.         13.33333333]\n",
      " [ 6.66666667 16.66666667]]\n",
      "\n",
      "=== 문제 6 - 1 ===\n",
      "# first cal:\n",
      "- labels: \n",
      "[0 0 1 1 2 2 2]\n",
      "- center: \n",
      "[[19.          7.        ]\n",
      " [20.         15.5       ]\n",
      " [ 6.66666667 16.66666667]]\n",
      "\n",
      "# second cal:\n",
      "- labels: \n",
      "[0 0 1 1 2 2 2]\n",
      "- center: \n",
      "[[19.          7.        ]\n",
      " [20.         15.5       ]\n",
      " [ 6.66666667 16.66666667]]\n",
      "\n"
     ]
    }
   ],
   "source": [
    "import numpy as np\n",
    "\n",
    "# 예제 6-1\n",
    "x_1 = [18, 5]\n",
    "x_2 = [20, 9]\n",
    "x_3 = [20, 14]\n",
    "x_4 = [20, 17]\n",
    "x_5 = [5, 15]\n",
    "x_6 = [9, 15]\n",
    "x_7 = [6, 20]\n",
    "\n",
    "X_array = np.array([x_1, x_2, x_3, x_4, x_5, x_6, x_7])\n",
    "Z_array = np.array([x_1, x_2, x_3])\n",
    "Z_array2 = np.array([x_2, x_3, x_7])    # 문제 6-1 중심점\n",
    "\n",
    "\n",
    "print(\"=== 예제 6 - 1 ===\")\n",
    "compare_iter(X_array, Z_array)\n",
    "print(\"=== 문제 6 - 1 ===\")\n",
    "compare_iter(X_array, Z_array2)\n"
   ]
  },
  {
   "cell_type": "code",
   "execution_count": 14,
   "metadata": {},
   "outputs": [
    {
     "data": {
      "text/plain": [
       "<Axes: >"
      ]
     },
     "execution_count": 14,
     "metadata": {},
     "output_type": "execute_result"
    },
    {
     "data": {
      "image/png": "[encoded data removed]",
      "text/plain": [
       "<Figure size 640x480 with 1 Axes>"
      ]
     },
     "metadata": {},
     "output_type": "display_data"
    }
   ],
   "source": [
    "import seaborn as sns\n",
    "\n",
    "sns.scatterplot(x=X_array[:, 0], y=X_array[:, 1])\n",
    "sns.scatterplot(x=Z_array[:, 0], y=Z_array[:, 1])\n"
   ]
  },
  {
   "cell_type": "markdown",
   "metadata": {},
   "source": [
    "### 6.3 [예제6-1]의 초기 군집 중심과 문제 1 의 초기 군집 중심 각각에 k-medbids 알고리즘을 적용하시오."
   ]
  },
  {
   "cell_type": "code",
   "execution_count": 6,
   "metadata": {},
   "outputs": [],
   "source": [
    "from sklearn_extra.cluster import KMedoids\n",
    "\n",
    "def compare_iter_medoids(X_array, Z_array):\n",
    "    kmeans1 = KMedoids(n_clusters=3, init=Z_array, max_iter=1).fit(X_array)\n",
    "    label1 = kmeans1.labels_\n",
    "    center1 = kmeans1.cluster_centers_\n",
    "\n",
    "    kmeans2 = KMedoids(n_clusters=3, init=center1, max_iter=1).fit(X_array)\n",
    "    label2 = kmeans2.labels_\n",
    "    center2 = kmeans2.cluster_centers_\n",
    "\n",
    "\n",
    "    print(\n",
    "        f\"# first cal:\\n\"\n",
    "        f\"- labels: \\n{label1}\\n\"\n",
    "        f\"- center: \\n{center1}\\n\"\n",
    "    )\n",
    "\n",
    "    print(\n",
    "        f\"# second cal:\\n\"\n",
    "        f\"- labels: \\n{label2}\\n\"\n",
    "        f\"- center: \\n{center2}\\n\"\n",
    "    )"
   ]
  },
  {
   "cell_type": "code",
   "execution_count": 7,
   "metadata": {},
   "outputs": [
    {
     "name": "stdout",
     "output_type": "stream",
     "text": [
      "=== 예제 6 - 1 ===\n",
      "# first cal:\n",
      "- labels: \n",
      "[0 1 1 1 2 2 2]\n",
      "- center: \n",
      "[[18.  5.]\n",
      " [20.  9.]\n",
      " [ 9. 15.]]\n",
      "\n",
      "# second cal:\n",
      "- labels: \n",
      "[0 0 1 1 2 2 2]\n",
      "- center: \n",
      "[[18.  5.]\n",
      " [20. 14.]\n",
      " [ 5. 15.]]\n",
      "\n",
      "=== 문제 6 - 1 ===\n",
      "# first cal:\n",
      "- labels: \n",
      "[0 0 1 1 2 2 2]\n",
      "- center: \n",
      "[[20.  9.]\n",
      " [20. 14.]\n",
      " [ 5. 15.]]\n",
      "\n",
      "# second cal:\n",
      "- labels: \n",
      "[0 0 1 1 2 2 2]\n",
      "- center: \n",
      "[[20.  9.]\n",
      " [20. 14.]\n",
      " [ 5. 15.]]\n",
      "\n"
     ]
    },
    {
     "name": "stderr",
     "output_type": "stream",
     "text": [
      "/opt/homebrew/Caskroom/miniconda/base/envs/work/lib/python3.9/site-packages/sklearn_extra/cluster/_k_medoids.py:297: ConvergenceWarning: Maximum number of iteration reached before convergence. Consider increasing max_iter to improve the fit.\n",
      "  warnings.warn(\n",
      "/opt/homebrew/Caskroom/miniconda/base/envs/work/lib/python3.9/site-packages/sklearn_extra/cluster/_k_medoids.py:297: ConvergenceWarning: Maximum number of iteration reached before convergence. Consider increasing max_iter to improve the fit.\n",
      "  warnings.warn(\n",
      "/opt/homebrew/Caskroom/miniconda/base/envs/work/lib/python3.9/site-packages/sklearn_extra/cluster/_k_medoids.py:297: ConvergenceWarning: Maximum number of iteration reached before convergence. Consider increasing max_iter to improve the fit.\n",
      "  warnings.warn(\n"
     ]
    }
   ],
   "source": [
    "import numpy as np\n",
    "from sklearn_extra.cluster import KMedoids\n",
    "\n",
    "# 예제 6-1\n",
    "x_1 = [18, 5]\n",
    "x_2 = [20, 9]\n",
    "x_3 = [20, 14]\n",
    "x_4 = [20, 17]\n",
    "x_5 = [5, 15]\n",
    "x_6 = [9, 15]\n",
    "x_7 = [6, 20]\n",
    "\n",
    "X_array = np.array([x_1, x_2, x_3, x_4, x_5, x_6, x_7])\n",
    "Z_array = np.array([x_1, x_2, x_3])\n",
    "Z_array2 = np.array([x_2, x_3, x_7])    # 문제 6-1 중심점\n",
    "\n",
    "\n",
    "print(\"=== 예제 6 - 1 ===\")\n",
    "compare_iter_medoids(X_array, Z_array)\n",
    "print(\"=== 문제 6 - 1 ===\")\n",
    "compare_iter_medoids(X_array, Z_array2)"
   ]
  },
  {
   "cell_type": "code",
   "execution_count": 10,
   "metadata": {},
   "outputs": [],
   "source": [
    "def compare_type(X_array, Z_array, max_iter=300):\n",
    "    kmeans = KMeans(n_clusters=3, init=Z_array, max_iter=max_iter, n_init=1).fit(X_array)\n",
    "    mean_label = kmeans.labels_\n",
    "    mean_center = kmeans.cluster_centers_\n",
    "    \n",
    "    kmedoids = KMedoids(n_clusters=3, init=Z_array, max_iter=max_iter).fit(X_array)\n",
    "    med_label = kmedoids.labels_\n",
    "    med_center = kmedoids.cluster_centers_\n",
    "\n",
    "    print(\n",
    "        f\"# Kmeans:\\n\"\n",
    "        f\"- labels: \\n{mean_label}\\n\"\n",
    "        f\"- center: \\n{mean_center}\\n\"\n",
    "    )\n",
    "    print(\n",
    "        f\"# Kmedoids:\\n\"\n",
    "        f\"- labels: \\n{med_label}\\n\"\n",
    "        f\"- center: \\n{med_center}\\n\"\n",
    "    )\n",
    "\n"
   ]
  },
  {
   "cell_type": "code",
   "execution_count": 14,
   "metadata": {},
   "outputs": [
    {
     "name": "stdout",
     "output_type": "stream",
     "text": [
      "# Kmeans:\n",
      "- labels: \n",
      "[0 1 1 1 2 2 2]\n",
      "- center: \n",
      "[[18.          5.        ]\n",
      " [20.         13.33333333]\n",
      " [ 6.66666667 16.66666667]]\n",
      "\n",
      "# Kmedoids:\n",
      "- labels: \n",
      "[0 0 1 1 2 2 2]\n",
      "- center: \n",
      "[[18.  5.]\n",
      " [20. 14.]\n",
      " [ 5. 15.]]\n",
      "\n"
     ]
    }
   ],
   "source": [
    "# 예제 중심점\n",
    "compare_type(X_array, Z_array)"
   ]
  },
  {
   "cell_type": "code",
   "execution_count": 12,
   "metadata": {},
   "outputs": [
    {
     "name": "stdout",
     "output_type": "stream",
     "text": [
      "# Kmeans:\n",
      "- labels: \n",
      "[0 0 1 1 2 2 2]\n",
      "- center: \n",
      "[[19.          7.        ]\n",
      " [20.         15.5       ]\n",
      " [ 6.66666667 16.66666667]]\n",
      "\n",
      "# Kmedoids:\n",
      "- labels: \n",
      "[0 0 1 1 2 2 2]\n",
      "- center: \n",
      "[[20.  9.]\n",
      " [20. 14.]\n",
      " [ 5. 15.]]\n",
      "\n"
     ]
    }
   ],
   "source": [
    "# 문제1 중심점\n",
    "compare_type(X_array, Z_array2)"
   ]
  },
  {
   "cell_type": "markdown",
   "metadata": {},
   "source": [
    "### 6.10 훈련집합이 다음과같다. \n",
    "PCA를 이용하여 3차원을 2차원으로 변환하는 행렬을 구하시오.\n",
    "![Alt text](image-2.png)"
   ]
  },
  {
   "cell_type": "code",
   "execution_count": 1,
   "metadata": {},
   "outputs": [
    {
     "name": "stdout",
     "output_type": "stream",
     "text": [
      "[[5 1 2]\n",
      " [5 2 2]\n",
      " [5 3 2]\n",
      " [4 3 3]\n",
      " [4 4 3]\n",
      " [3 4 4]\n",
      " [3 5 4]\n",
      " [3 6 4]]\n"
     ]
    },
    {
     "data": {
      "text/plain": [
       "array([[ 1. , -2.5, -1. ],\n",
       "       [ 1. , -1.5, -1. ],\n",
       "       [ 1. , -0.5, -1. ],\n",
       "       [ 0. , -0.5,  0. ],\n",
       "       [ 0. ,  0.5,  0. ],\n",
       "       [-1. ,  0.5,  1. ],\n",
       "       [-1. ,  1.5,  1. ],\n",
       "       [-1. ,  2.5,  1. ]])"
      ]
     },
     "execution_count": 1,
     "metadata": {},
     "output_type": "execute_result"
    }
   ],
   "source": [
    "import numpy as np\n",
    "\n",
    "x_1 = np.array([5, 1, 2])\n",
    "x_2 = np.array([5, 2, 2])\n",
    "x_3 = np.array([5, 3, 2])\n",
    "x_4 = np.array([4, 3, 3])\n",
    "x_5 = np.array([4, 4, 3])\n",
    "x_6 = np.array([3, 4, 4])\n",
    "x_7 = np.array([3, 5, 4])\n",
    "x_8 = np.array([3, 6, 4])\n",
    "\n",
    "X_array = np.array([x_1, x_2, x_3, x_4, x_5, x_6, x_7, x_8])\n",
    "print(X_array)\n",
    "X_mean = np.mean(X_array, axis=0)\n",
    "X_array = X_array - X_mean\n",
    "X_array   # 원점으로 돌려주기"
   ]
  },
  {
   "cell_type": "code",
   "execution_count": 35,
   "metadata": {},
   "outputs": [
    {
     "name": "stdout",
     "output_type": "stream",
     "text": [
      "co_matrix=array([[ 0.75 , -1.125, -0.75 ],\n",
      "       [-1.125,  2.25 ,  1.125],\n",
      "       [-0.75 ,  1.125,  0.75 ]])\n",
      "eigen_value=array([3.50958710e+00, 2.40412896e-01, 6.20759596e-17])\n",
      "eigen_vector=array([[-4.38914646e-01, -5.54395106e-01,  7.07106781e-01],\n",
      "       [ 7.84033078e-01, -6.20719045e-01, -1.64906180e-17],\n",
      "       [ 4.38914646e-01,  5.54395106e-01,  7.07106781e-01]])\n"
     ]
    }
   ],
   "source": [
    "# 공분산 행렬\n",
    "co_matrix = np.dot(X_array.T, X_array) / X_array.shape[0]\n",
    "# 고유값, 고유벡터 \n",
    "eigen_value, eigen_vector = np.linalg.eig(co_matrix)\n",
    "sorted_index = np.argsort(eigen_value)[::-1]\n",
    "eigen_value = eigen_value[sorted_index]\n",
    "eigen_vector = eigen_vector[:, sorted_index]\n",
    "\n",
    "print(\n",
    "    f\"{co_matrix=}\\n\"\n",
    "    f\"{eigen_value=}\\n\"\n",
    "    f\"{eigen_vector=}\"\n",
    "    )"
   ]
  },
  {
   "cell_type": "code",
   "execution_count": 28,
   "metadata": {},
   "outputs": [
    {
     "data": {
      "text/plain": [
       "array([[-0.43891465, -0.55439511],\n",
       "       [ 0.78403308, -0.62071905],\n",
       "       [ 0.43891465,  0.55439511]])"
      ]
     },
     "execution_count": 28,
     "metadata": {},
     "output_type": "execute_result"
    }
   ],
   "source": [
    "# 2차원 행렬\n",
    "u = eigen_vector[:, :2]\n",
    "u"
   ]
  },
  {
   "cell_type": "code",
   "execution_count": 31,
   "metadata": {},
   "outputs": [
    {
     "data": {
      "text/plain": [
       "array([[-2.83791199,  0.4430074 ],\n",
       "       [-2.05387891, -0.17771164],\n",
       "       [-1.26984583, -0.79843069],\n",
       "       [-0.39201654,  0.31035952],\n",
       "       [ 0.39201654, -0.31035952],\n",
       "       [ 1.26984583,  0.79843069],\n",
       "       [ 2.05387891,  0.17771164],\n",
       "       [ 2.83791199, -0.4430074 ]])"
      ]
     },
     "execution_count": 31,
     "metadata": {},
     "output_type": "execute_result"
    }
   ],
   "source": [
    "np.dot(X_array, u)"
   ]
  },
  {
   "cell_type": "code",
   "execution_count": null,
   "metadata": {},
   "outputs": [],
   "source": []
  }
 ],
 "metadata": {
  "kernelspec": {
   "display_name": "estudiar",
   "language": "python",
   "name": "python3"
  },
  "language_info": {
   "codemirror_mode": {
    "name": "ipython",
    "version": 3
   },
   "file_extension": ".py",
   "mimetype": "text/x-python",
   "name": "python",
   "nbconvert_exporter": "python",
   "pygments_lexer": "ipython3",
   "version": "3.9.16"
  }
 },
 "nbformat": 4,
 "nbformat_minor": 2
}
