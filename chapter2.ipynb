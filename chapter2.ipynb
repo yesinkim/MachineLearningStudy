{
 "cells": [
  {
   "cell_type": "markdown",
   "metadata": {},
   "source": [
    "#### 1. $A$의 $2A, A^T, A^{-1}$을 쓰시오. 또한 A의 계수를 쓰시오"
   ]
  },
  {
   "cell_type": "code",
   "execution_count": 27,
   "metadata": {},
   "outputs": [],
   "source": [
    "import numpy as np\n",
    "\n",
    "A = np.array([[1, -2, 3, 5], [2, 2, -1, 0], [3, 0, 1, 2], [1, 0, 2, 0]])"
   ]
  },
  {
   "cell_type": "code",
   "execution_count": 28,
   "metadata": {},
   "outputs": [
    {
     "name": "stdout",
     "output_type": "stream",
     "text": [
      "[[ 2 -4  6 10]\n",
      " [ 4  4 -2  0]\n",
      " [ 6  0  2  4]\n",
      " [ 2  0  4  0]]\n"
     ]
    }
   ],
   "source": [
    "A_2 = 2 * A\n",
    "print(A_2)"
   ]
  },
  {
   "cell_type": "code",
   "execution_count": 29,
   "metadata": {},
   "outputs": [
    {
     "name": "stdout",
     "output_type": "stream",
     "text": [
      "[[ 1  2  3  1]\n",
      " [-2  2  0  0]\n",
      " [ 3 -1  1  2]\n",
      " [ 5  0  2  0]]\n"
     ]
    }
   ],
   "source": [
    "A_transpose = A.T\n",
    "print(A_transpose)"
   ]
  },
  {
   "cell_type": "code",
   "execution_count": 30,
   "metadata": {},
   "outputs": [
    {
     "name": "stdout",
     "output_type": "stream",
     "text": [
      "[[-0.23529412 -0.23529412  0.58823529 -0.05882353]\n",
      " [ 0.29411765  0.79411765 -0.73529412  0.32352941]\n",
      " [ 0.11764706  0.11764706 -0.29411765  0.52941176]\n",
      " [ 0.29411765  0.29411765 -0.23529412 -0.17647059]]\n"
     ]
    }
   ],
   "source": [
    "A_inverse = np.linalg.inv(A)\n",
    "print(A_inverse)"
   ]
  },
  {
   "cell_type": "markdown",
   "metadata": {},
   "source": [
    "#### 2. A의 $A^{1/2}, A^{-1/2}$를 구하시오."
   ]
  },
  {
   "cell_type": "code",
   "execution_count": 31,
   "metadata": {},
   "outputs": [],
   "source": [
    "A = np.array([[1, -2], [2, 2]])"
   ]
  },
  {
   "cell_type": "code",
   "execution_count": 32,
   "metadata": {},
   "outputs": [
    {
     "data": {
      "text/plain": [
       "array([[ 1.22735265+9.81982781e-17j, -0.71161403+9.18378584e-17j],\n",
       "       [ 0.71161403-1.01538774e-17j,  1.58315967-1.32267475e-16j]])"
      ]
     },
     "execution_count": 32,
     "metadata": {},
     "output_type": "execute_result"
    }
   ],
   "source": [
    "from scipy import linalg\n",
    "\n",
    "A_sqrt = linalg.sqrtm(A)\n",
    "A_sqrt"
   ]
  },
  {
   "cell_type": "code",
   "execution_count": 33,
   "metadata": {},
   "outputs": [
    {
     "data": {
      "text/plain": [
       "array([[ 0.64632223-3.30332338e-17j,  0.29051521-2.80692146e-17j],\n",
       "       [-0.29051521-5.27813099e-18j,  0.50106462+5.63422987e-17j]])"
      ]
     },
     "execution_count": 33,
     "metadata": {},
     "output_type": "execute_result"
    }
   ],
   "source": [
    "A_inv_sqrt = np.linalg.inv(A_sqrt)\n",
    "A_inv_sqrt"
   ]
  }
 ],
 "metadata": {
  "kernelspec": {
   "display_name": "estudiar",
   "language": "python",
   "name": "python3"
  },
  "language_info": {
   "codemirror_mode": {
    "name": "ipython",
    "version": 3
   },
   "file_extension": ".py",
   "mimetype": "text/x-python",
   "name": "python",
   "nbconvert_exporter": "python",
   "pygments_lexer": "ipython3",
   "version": "3.9.16"
  },
  "orig_nbformat": 4
 },
 "nbformat": 4,
 "nbformat_minor": 2
}
