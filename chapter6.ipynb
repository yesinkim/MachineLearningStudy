{
 "cells": [
  {
   "cell_type": "markdown",
   "metadata": {},
   "source": [
    "# covariance matrix"
   ]
  },
  {
   "cell_type": "code",
   "execution_count": 5,
   "metadata": {},
   "outputs": [
    {
     "data": {
      "text/plain": [
       "array([[-1.  , -1.25],\n",
       "       [-1.  ,  1.75],\n",
       "       [ 1.  , -1.25],\n",
       "       [ 1.  ,  0.75]])"
      ]
     },
     "execution_count": 5,
     "metadata": {},
     "output_type": "execute_result"
    }
   ],
   "source": [
    "import numpy as np\n",
    "\n",
    "x_1 = np.array([2, 1])\n",
    "x_2 = np.array([2, 4])\n",
    "x_3 = np.array([4, 1])\n",
    "x_4 = np.array([4, 3])\n",
    "\n",
    "X = np.array([x_1, x_2, x_3, x_4])\n",
    "X_mean = np.mean(X, axis=0)\n",
    "X = X - X_mean\n",
    "X   # 원점으로 돌려주기"
   ]
  },
  {
   "cell_type": "code",
   "execution_count": 6,
   "metadata": {},
   "outputs": [
    {
     "data": {
      "text/plain": [
       "array([-1., -1.,  1.,  1.])"
      ]
     },
     "execution_count": 6,
     "metadata": {},
     "output_type": "execute_result"
    }
   ],
   "source": [
    "# 1, 0에 투영하기\n",
    "u = np.array([1, 0])\n",
    "\n",
    "np.dot(X, u)"
   ]
  },
  {
   "cell_type": "code",
   "execution_count": 22,
   "metadata": {},
   "outputs": [
    {
     "data": {
      "text/plain": [
       "array([[ 1.    , -0.25  ],\n",
       "       [-0.25  ,  1.6875]])"
      ]
     },
     "execution_count": 22,
     "metadata": {},
     "output_type": "execute_result"
    }
   ],
   "source": [
    "# 공분산 행렬\n",
    "np.dot(X.T, X) / 4"
   ]
  },
  {
   "cell_type": "code",
   "execution_count": 24,
   "metadata": {},
   "outputs": [
    {
     "data": {
      "text/plain": [
       "(array([0.91870405, 1.76879595]),\n",
       " array([[-0.95098267,  0.30924417],\n",
       "        [-0.30924417, -0.95098267]]))"
      ]
     },
     "execution_count": 24,
     "metadata": {},
     "output_type": "execute_result"
    }
   ],
   "source": [
    "# 고유값, 고유벡터 \n",
    "np.linalg.eig(np.dot(X.T, X) / 4)"
   ]
  },
  {
   "cell_type": "code",
   "execution_count": null,
   "metadata": {},
   "outputs": [],
   "source": []
  }
 ],
 "metadata": {
  "kernelspec": {
   "display_name": "estudiar",
   "language": "python",
   "name": "python3"
  },
  "language_info": {
   "codemirror_mode": {
    "name": "ipython",
    "version": 3
   },
   "file_extension": ".py",
   "mimetype": "text/x-python",
   "name": "python",
   "nbconvert_exporter": "python",
   "pygments_lexer": "ipython3",
   "version": "3.9.16"
  }
 },
 "nbformat": 4,
 "nbformat_minor": 2
}
