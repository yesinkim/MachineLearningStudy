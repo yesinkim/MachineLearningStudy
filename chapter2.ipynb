{
  "cells": [
    {
      "cell_type": "markdown",
      "metadata": {
        "id": "view-in-github",
        "colab_type": "text"
      },
      "source": [
        "<a href=\"https://colab.research.google.com/github/yesinkim/MachineLearningStudy/blob/main/chapter2.ipynb\" target=\"_parent\"><img src=\"https://colab.research.google.com/assets/colab-badge.svg\" alt=\"Open In Colab\"/></a>"
      ]
    },
    {
      "cell_type": "markdown",
      "metadata": {
        "id": "JL-0mDSvUSRu"
      },
      "source": [
        "#### 1. $A$의 $2A, A^T, A^{-1}$을 쓰시오. 또한 A의 계수를 쓰시오"
      ]
    },
    {
      "cell_type": "code",
      "execution_count": 15,
      "metadata": {
        "id": "VFIVgXxZUSR1"
      },
      "outputs": [],
      "source": [
        "import numpy as np\n",
        "\n",
        "A = np.array([[1, -2, 3, 5], [2, 2, -1, 0], [3, 0, 1, 2], [1, 0, 2, 0]])"
      ]
    },
    {
      "cell_type": "code",
      "execution_count": 16,
      "metadata": {
        "id": "twKFv2gXUSR2",
        "outputId": "c450e629-713b-4d62-9039-ed66035d6c6d",
        "colab": {
          "base_uri": "https://localhost:8080/"
        }
      },
      "outputs": [
        {
          "output_type": "stream",
          "name": "stdout",
          "text": [
            "[[ 2 -4  6 10]\n",
            " [ 4  4 -2  0]\n",
            " [ 6  0  2  4]\n",
            " [ 2  0  4  0]]\n"
          ]
        }
      ],
      "source": [
        "A_2 = 2 * A\n",
        "print(A_2)"
      ]
    },
    {
      "cell_type": "code",
      "execution_count": 17,
      "metadata": {
        "id": "luVTqhwyUSR2",
        "outputId": "f9541005-b1cf-4683-e033-2e7b21f784f0",
        "colab": {
          "base_uri": "https://localhost:8080/"
        }
      },
      "outputs": [
        {
          "output_type": "stream",
          "name": "stdout",
          "text": [
            "[[ 1  2  3  1]\n",
            " [-2  2  0  0]\n",
            " [ 3 -1  1  2]\n",
            " [ 5  0  2  0]]\n"
          ]
        }
      ],
      "source": [
        "A_transpose = A.T\n",
        "print(A_transpose)"
      ]
    },
    {
      "cell_type": "code",
      "execution_count": 18,
      "metadata": {
        "id": "p3VZssA5USR2",
        "outputId": "601f030c-e05f-46de-82ea-933122919b27",
        "colab": {
          "base_uri": "https://localhost:8080/"
        }
      },
      "outputs": [
        {
          "output_type": "stream",
          "name": "stdout",
          "text": [
            "[[-0.23529412 -0.23529412  0.58823529 -0.05882353]\n",
            " [ 0.29411765  0.79411765 -0.73529412  0.32352941]\n",
            " [ 0.11764706  0.11764706 -0.29411765  0.52941176]\n",
            " [ 0.29411765  0.29411765 -0.23529412 -0.17647059]]\n"
          ]
        }
      ],
      "source": [
        "A_inverse = np.linalg.inv(A)\n",
        "print(A_inverse)"
      ]
    },
    {
      "cell_type": "markdown",
      "metadata": {
        "id": "BB-Ed99cUSR3"
      },
      "source": [
        "#### 2. A의 $A^{1/2}, A^{-1/2}$를 구하시오."
      ]
    },
    {
      "cell_type": "code",
      "execution_count": 19,
      "metadata": {
        "id": "fBgxAg2WUSR3"
      },
      "outputs": [],
      "source": [
        "A = np.array([[1, -2], [2, 2]])"
      ]
    },
    {
      "cell_type": "code",
      "execution_count": 20,
      "metadata": {
        "id": "-_DB4RdyUSR3",
        "outputId": "ca7417de-964e-46c4-f830-cd579cb149ed",
        "colab": {
          "base_uri": "https://localhost:8080/"
        }
      },
      "outputs": [
        {
          "output_type": "execute_result",
          "data": {
            "text/plain": [
              "array([[ 1.22735265+1.11022302e-16j, -0.71161403+0.00000000e+00j],\n",
              "       [ 0.71161403-5.55111512e-17j,  1.58315967+0.00000000e+00j]])"
            ]
          },
          "metadata": {},
          "execution_count": 20
        }
      ],
      "source": [
        "from scipy import linalg\n",
        "\n",
        "A_sqrt = linalg.sqrtm(A)\n",
        "A_sqrt"
      ]
    },
    {
      "cell_type": "code",
      "execution_count": 21,
      "metadata": {
        "id": "N47cTCVZUSR3",
        "outputId": "065a039d-954e-4822-830a-c26a43c79ae5",
        "colab": {
          "base_uri": "https://localhost:8080/"
        }
      },
      "outputs": [
        {
          "output_type": "execute_result",
          "data": {
            "text/plain": [
              "array([[ 0.64632223-3.59544841e-17j,  0.29051521-1.61611718e-17j],\n",
              "       [-0.29051521+3.88235044e-17j,  0.50106462+1.74507670e-17j]])"
            ]
          },
          "metadata": {},
          "execution_count": 21
        }
      ],
      "source": [
        "A_inv_sqrt = np.linalg.inv(A_sqrt)\n",
        "A_inv_sqrt"
      ]
    },
    {
      "cell_type": "markdown",
      "source": [
        "#### Q4. 변수가 4개인 다음 2차 다항식 2개를 예제2-1처럼 행렬로 표시하시오. 행렬을 더함으로써 다항식 덧셈 f_1(x)+f_2(x)를 수행할 수 있다는 사실을 이 예제를 이용하여 보이시오."
      ],
      "metadata": {
        "id": "J858sIhNUw8V"
      }
    },
    {
      "cell_type": "code",
      "source": [
        "f1_2 = np.array([[-2, -1.5, 0, 3.1], [2, 2, 0, -6], [-2.1, 0, 3, 0], [2, 3, 0, -2]])\n",
        "f1_1 = np.array([1.2, 3.3, 0, -4])\n",
        "f1_0 = 4.2\n",
        "\n",
        "f2_2 = np.array([[3, 0, 3.5, -3.1], [2.1, -2, 0, -2], [-2.5, 0, 3, 0], [3, -6, 2, 0]])\n",
        "f2_1 = np.array([2.2, 2.3, 3.3, -2])\n",
        "f2_0 = 5.1"
      ],
      "metadata": {
        "id": "JuPkqsxAUuQd"
      },
      "execution_count": 22,
      "outputs": []
    },
    {
      "cell_type": "code",
      "source": [
        "sum_2 = f1_2 + f2_2\n",
        "sum_1 = f1_1 + f2_1\n",
        "sum_0 = f1_0 + f1_0"
      ],
      "metadata": {
        "id": "dcZFAmO9VFm5"
      },
      "execution_count": 23,
      "outputs": []
    },
    {
      "cell_type": "code",
      "source": [
        "sum_2"
      ],
      "metadata": {
        "id": "OYGDlm97VZVs",
        "outputId": "ab67564d-e945-4db8-8ae2-ce5d25d0b2b5",
        "colab": {
          "base_uri": "https://localhost:8080/"
        }
      },
      "execution_count": 27,
      "outputs": [
        {
          "output_type": "execute_result",
          "data": {
            "text/plain": [
              "array([[ 1. , -1.5,  3.5,  0. ],\n",
              "       [ 4.1,  0. ,  0. , -8. ],\n",
              "       [-4.6,  0. ,  6. ,  0. ],\n",
              "       [ 5. , -3. ,  2. , -2. ]])"
            ]
          },
          "metadata": {},
          "execution_count": 27
        }
      ]
    },
    {
      "cell_type": "code",
      "source": [
        "sum_1"
      ],
      "metadata": {
        "id": "GB9y-Vd4Vg1t",
        "outputId": "5464d33b-dc31-46dc-9258-7f959990afb4",
        "colab": {
          "base_uri": "https://localhost:8080/"
        }
      },
      "execution_count": 28,
      "outputs": [
        {
          "output_type": "execute_result",
          "data": {
            "text/plain": [
              "array([ 3.4,  5.6,  3.3, -6. ])"
            ]
          },
          "metadata": {},
          "execution_count": 28
        }
      ]
    },
    {
      "cell_type": "code",
      "source": [
        "sum_0"
      ],
      "metadata": {
        "id": "d9gA6_pQVsVL",
        "outputId": "ff69dc81-2a4a-4e00-e178-9c7a57107802",
        "colab": {
          "base_uri": "https://localhost:8080/"
        }
      },
      "execution_count": 29,
      "outputs": [
        {
          "output_type": "execute_result",
          "data": {
            "text/plain": [
              "8.4"
            ]
          },
          "metadata": {},
          "execution_count": 29
        }
      ]
    },
    {
      "cell_type": "markdown",
      "source": [
        "#### Q5. norm을 계산하세요."
      ],
      "metadata": {
        "id": "8y8VupGuVvFI"
      }
    },
    {
      "cell_type": "code",
      "source": [
        "x = np.array([3, -4, -1.2, 0, 2.3])\n",
        "\n",
        "print(np.linalg.norm(x, 1))\n",
        "print(np.linalg.norm(x, 2))\n",
        "print(np.linalg.norm(x, 3))\n",
        "print()"
      ],
      "metadata": {
        "id": "0mjgdyNSVtPk",
        "outputId": "d4b82be3-fe31-4a9a-dc6f-56a58689313c",
        "colab": {
          "base_uri": "https://localhost:8080/"
        }
      },
      "execution_count": 33,
      "outputs": [
        {
          "output_type": "stream",
          "name": "stdout",
          "text": [
            "10.5\n",
            "5.632938842203065\n",
            "4.716120891176797\n",
            "4.0\n"
          ]
        }
      ]
    },
    {
      "cell_type": "code",
      "source": [],
      "metadata": {
        "id": "f-rSqvNJWAMp"
      },
      "execution_count": null,
      "outputs": []
    }
  ],
  "metadata": {
    "kernelspec": {
      "display_name": "estudiar",
      "language": "python",
      "name": "python3"
    },
    "language_info": {
      "codemirror_mode": {
        "name": "ipython",
        "version": 3
      },
      "file_extension": ".py",
      "mimetype": "text/x-python",
      "name": "python",
      "nbconvert_exporter": "python",
      "pygments_lexer": "ipython3",
      "version": "3.9.16"
    },
    "orig_nbformat": 4,
    "colab": {
      "provenance": [],
      "include_colab_link": true
    }
  },
  "nbformat": 4,
  "nbformat_minor": 0
}