{
 "cells": [
  {
   "cell_type": "markdown",
   "metadata": {},
   "source": [
    "# covariance matrix"
   ]
  },
  {
   "cell_type": "code",
   "execution_count": 5,
   "metadata": {},
   "outputs": [
    {
     "data": {
      "text/plain": [
       "array([[-1.  , -1.25],\n",
       "       [-1.  ,  1.75],\n",
       "       [ 1.  , -1.25],\n",
       "       [ 1.  ,  0.75]])"
      ]
     },
     "execution_count": 5,
     "metadata": {},
     "output_type": "execute_result"
    }
   ],
   "source": [
    "import numpy as np\n",
    "\n",
    "x_1 = np.array([2, 1])\n",
    "x_2 = np.array([2, 4])\n",
    "x_3 = np.array([4, 1])\n",
    "x_4 = np.array([4, 3])\n",
    "\n",
    "X = np.array([x_1, x_2, x_3, x_4])\n",
    "X_mean = np.mean(X, axis=0)\n",
    "X = X - X_mean\n",
    "X   # 원점으로 돌려주기"
   ]
  },
  {
   "cell_type": "code",
   "execution_count": 6,
   "metadata": {},
   "outputs": [
    {
     "data": {
      "text/plain": [
       "array([-1., -1.,  1.,  1.])"
      ]
     },
     "execution_count": 6,
     "metadata": {},
     "output_type": "execute_result"
    }
   ],
   "source": [
    "# 1, 0에 투영하기\n",
    "u = np.array([1, 0])\n",
    "\n",
    "np.dot(X, u)"
   ]
  },
  {
   "cell_type": "code",
   "execution_count": 22,
   "metadata": {},
   "outputs": [
    {
     "data": {
      "text/plain": [
       "array([[ 1.    , -0.25  ],\n",
       "       [-0.25  ,  1.6875]])"
      ]
     },
     "execution_count": 22,
     "metadata": {},
     "output_type": "execute_result"
    }
   ],
   "source": [
    "# 공분산 행렬\n",
    "np.dot(X.T, X) / 4"
   ]
  },
  {
   "cell_type": "code",
   "execution_count": 24,
   "metadata": {},
   "outputs": [
    {
     "data": {
      "text/plain": [
       "(array([0.91870405, 1.76879595]),\n",
       " array([[-0.95098267,  0.30924417],\n",
       "        [-0.30924417, -0.95098267]]))"
      ]
     },
     "execution_count": 24,
     "metadata": {},
     "output_type": "execute_result"
    }
   ],
   "source": [
    "# 고유값, 고유벡터 \n",
    "np.linalg.eig(np.dot(X.T, X) / 4)"
   ]
  },
  {
   "cell_type": "markdown",
   "metadata": {},
   "source": [
    "### 6.1 [예제 6-1]에서 초 기 군 집 중 심 을 z_1 = x_2, z_2 = x_3, z_3 = x_7 로 다 시 설 정 했 을 때 k - 평 균 의 동작을예제처럼보이시오. 다중시작을사용한다면둘중어느해를취할지판단하시오.\n",
    "![Alt text](image-1.png)"
   ]
  },
  {
   "cell_type": "code",
   "execution_count": 1,
   "metadata": {},
   "outputs": [
    {
     "name": "stdout",
     "output_type": "stream",
     "text": [
      "[1 1 2 2 0 0 0]\n"
     ]
    },
    {
     "name": "stderr",
     "output_type": "stream",
     "text": [
      "/opt/homebrew/Caskroom/miniconda/base/envs/estud/lib/python3.8/site-packages/sklearn/cluster/_kmeans.py:1416: FutureWarning: The default value of `n_init` will change from 10 to 'auto' in 1.4. Set the value of `n_init` explicitly to suppress the warning\n",
      "  super()._check_params_vs_input(X, default_n_init=10)\n"
     ]
    }
   ],
   "source": [
    "# 예제 6-1\n",
    "\n",
    "\n",
    "\n",
    "# 문제"
   ]
  },
  {
   "cell_type": "markdown",
   "metadata": {},
   "source": [
    "### 6.3 [문제6-1]의초기군집중심과문제1의초기군집중심각에k-medbids 알고리즘을적용 하시오."
   ]
  },
  {
   "cell_type": "markdown",
   "metadata": {},
   "source": [
    "### 6.10 훈련집합이다음과같다. PCA를이용하여3차원을2차원으로변환하는행렬을구하시오."
   ]
  },
  {
   "cell_type": "code",
   "execution_count": null,
   "metadata": {},
   "outputs": [],
   "source": []
  }
 ],
 "metadata": {
  "kernelspec": {
   "display_name": "estudiar",
   "language": "python",
   "name": "python3"
  },
  "language_info": {
   "codemirror_mode": {
    "name": "ipython",
    "version": 3
   },
   "file_extension": ".py",
   "mimetype": "text/x-python",
   "name": "python",
   "nbconvert_exporter": "python",
   "pygments_lexer": "ipython3",
   "version": "3.8.13"
  }
 },
 "nbformat": 4,
 "nbformat_minor": 2
}
