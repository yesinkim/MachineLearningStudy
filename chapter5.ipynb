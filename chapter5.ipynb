{
 "cells": [
  {
   "cell_type": "markdown",
   "metadata": {},
   "source": [
    "## 1. 신경망의 출력이 (0.4, 2.0, 0.001, 0.32)일 때 softmax를 적용한 결과를 쓰시오."
   ]
  },
  {
   "cell_type": "code",
   "execution_count": 1,
   "metadata": {},
   "outputs": [
    {
     "name": "stdout",
     "output_type": "stream",
     "text": [
      "[0.13250053 0.65627943 0.08890663 0.12231341]\n"
     ]
    }
   ],
   "source": [
    "import numpy as np\n",
    "\n",
    "def softmax(x):\n",
    "    return np.exp(x) / np.sum(np.exp(x), axis=0)\n",
    "\n",
    "x = np.array([0.4, 2.0, 0.001, 0.32])\n",
    "\n",
    "print(softmax(x))"
   ]
  },
  {
   "cell_type": "markdown",
   "metadata": {},
   "source": [
    "## 10 [예제 5-2]에서 $w_6, w_7$ 을 계산하시오.\n"
   ]
  },
  {
   "cell_type": "code",
   "execution_count": 20,
   "metadata": {},
   "outputs": [],
   "source": [
    "import numpy as np\n",
    "\n",
    "def dJ(w):\n",
    "    dw1 = 2 * (w[0] - 2)\n",
    "    dw2 = 8 * (w[1] - 1)\n",
    "    return np.array([dw1, dw2])\n",
    "\n",
    "def gradient_descent(w, lr):\n",
    "    gradient = dJ(w)\n",
    "    w = w - lr * gradient\n",
    "    return w"
   ]
  },
  {
   "cell_type": "code",
   "execution_count": 21,
   "metadata": {},
   "outputs": [
    {
     "name": "stdout",
     "output_type": "stream",
     "text": [
      "w1 = [4 2]\n",
      "w2 = [3.2 0.4]\n",
      "w3 = [2.72 1.36]\n",
      "w4 = [2.432 0.784]\n",
      "w5 = [2.2592 1.1296]\n",
      "w6 = [2.15552 0.92224]\n",
      "w7 = [2.093312 1.046656]\n",
      "w8 = [2.0559872 0.9720064]\n"
     ]
    }
   ],
   "source": [
    "w = np.array([4, 2])\n",
    "print(f\"w1 = {w}\")\n",
    "\n",
    "for i in range(7):\n",
    "    w = gradient_descent(w, 0.2)\n",
    "    print(f\"w{i+2} = {w}\")\n",
    "    "
   ]
  },
  {
   "cell_type": "markdown",
   "metadata": {},
   "source": [
    "## 13 변수가 3 개인 다음 함수에 [예제 5-2]와 같이 경사 하강법을 적응하시오.\n",
    "\n",
    "![Alt text](image.png)\n",
    "$$\n",
    "J(w)=J\\left(w_1, w_2, w_3\\right)=2\\left(w_1-2\\right)^2+\\left(w_2-1\\right)^2+2\\left(w_3-1\\right)^2 \\\\\n",
    "\n",
    "\\Delta J(w)=  4(w_1-2)+ 2(w_2-1) + 4(w_3-1)\n",
    "$$"
   ]
  }
 ],
 "metadata": {
  "kernelspec": {
   "display_name": "estud",
   "language": "python",
   "name": "python3"
  },
  "language_info": {
   "codemirror_mode": {
    "name": "ipython",
    "version": 3
   },
   "file_extension": ".py",
   "mimetype": "text/x-python",
   "name": "python",
   "nbconvert_exporter": "python",
   "pygments_lexer": "ipython3",
   "version": "3.8.13"
  },
  "orig_nbformat": 4
 },
 "nbformat": 4,
 "nbformat_minor": 2
}
